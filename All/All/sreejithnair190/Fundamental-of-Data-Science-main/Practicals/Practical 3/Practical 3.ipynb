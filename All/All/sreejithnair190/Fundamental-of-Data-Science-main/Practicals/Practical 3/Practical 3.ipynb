{
 "cells": [
  {
   "cell_type": "code",
   "execution_count": 1,
   "id": "0a882a16-847d-4cf3-b821-19dc8d100573",
   "metadata": {},
   "outputs": [
    {
     "name": "stdout",
     "output_type": "stream",
     "text": [
      "probability of getting 3 is : 0.16666666666666666\n"
     ]
    }
   ],
   "source": [
    "#probability of getting a 3 when a die is rollled\n",
    "ns = 6 #{1,2,3,4,5,6}\n",
    "na = 1 # A={3}\n",
    "pa = na / ns #P(A)\n",
    "print(\"probability of getting 3 is :\",pa)"
   ]
  },
  {
   "cell_type": "code",
   "execution_count": 2,
   "id": "8df8bf10-eead-42a3-8fb8-afb50991b27b",
   "metadata": {},
   "outputs": [
    {
     "name": "stdout",
     "output_type": "stream",
     "text": [
      "probability of getting one head is : 0.875\n"
     ]
    }
   ],
   "source": [
    "#calculate the probability of getting one head when \n",
    "#a coin is tossed thrice\n",
    "ns = 8 #ns{HHH,HHT,HTH,THH,TTT,TTH,THT,HTT}\n",
    "na = 7 #na{HHH,HHT,HTH,THH,TTH,THT,HTT}\n",
    "pa = na / ns \n",
    "print(\"probability of getting one head is :\",pa)"
   ]
  },
  {
   "cell_type": "code",
   "execution_count": 4,
   "id": "6fd293ef-531c-47ca-a69c-74963f1d48a7",
   "metadata": {},
   "outputs": [
    {
     "name": "stdout",
     "output_type": "stream",
     "text": [
      "probability of not getting blue is : 0.7\n"
     ]
    }
   ],
   "source": [
    "ns = 10 #{R,R,R,R,R,B,B,B,G,G}\n",
    "na = 7 #{R,R,R,R,R,G,G}\n",
    "pa = na / ns\n",
    "print(\"probability of not getting blue is :\",pa)"
   ]
  },
  {
   "cell_type": "code",
   "execution_count": 5,
   "id": "522d8f11-0800-40a3-a403-bdc2ae923b86",
   "metadata": {},
   "outputs": [
    {
     "name": "stdout",
     "output_type": "stream",
     "text": [
      "The probability of both being alive will be : 0.35\n"
     ]
    }
   ],
   "source": [
    "# The person A will be alive in 20 years is 0.7\n",
    "# The person A will be alive in 20 years is 0.5\n",
    "#Find the probability both the person will be alive in 20 years\n",
    "pa = 0.7\n",
    "pb = 0.5\n",
    "P = pa*pb\n",
    "print(\"The probability of both being alive will be :\",P)"
   ]
  },
  {
   "cell_type": "code",
   "execution_count": 6,
   "id": "fca3a4f9-25e5-419e-9258-41c9eee7ee41",
   "metadata": {},
   "outputs": [],
   "source": [
    "def event_probability(n,s):\n",
    "    return(n/s)"
   ]
  },
  {
   "cell_type": "code",
   "execution_count": 7,
   "id": "96b37171-4ddf-4ffc-a2a4-86330a7062fe",
   "metadata": {},
   "outputs": [
    {
     "name": "stdout",
     "output_type": "stream",
     "text": [
      "The probability will be : 0.16666666666666666\n"
     ]
    }
   ],
   "source": [
    "#A fair die is tossed twice\n",
    "#find the probability of getting a 4 or 5 on the first toss\n",
    "#1,2,3 in the second toss\n",
    "pa = event_probability(2,6)\n",
    "pb = event_probability(3,6)\n",
    "P = pa * pb\n",
    "print(\"The probability will be :\",P)"
   ]
  },
  {
   "cell_type": "code",
   "execution_count": 8,
   "id": "3b925111-3a68-4ce7-b000-ade8cb7908ec",
   "metadata": {},
   "outputs": [
    {
     "name": "stdout",
     "output_type": "stream",
     "text": [
      "The probability will be : 0.041666666666666664\n"
     ]
    }
   ],
   "source": [
    "# ns ={W,W,W,W,W,B,B,B,G,G}\n",
    "pa = event_probability(5,10)\n",
    "pb = event_probability(3,9)\n",
    "pc = event_probability(2,8)\n",
    "P =pa*pb*pc\n",
    "print(\"The probability will be :\",P)"
   ]
  },
  {
   "cell_type": "code",
   "execution_count": 9,
   "id": "ddac8018-e7f4-4af8-a952-448cc3336ae1",
   "metadata": {},
   "outputs": [
    {
     "name": "stdout",
     "output_type": "stream",
     "text": [
      "The probability will be : 0.5\n"
     ]
    }
   ],
   "source": [
    "cards = 52\n",
    "heart = 13\n",
    "club = 13\n",
    "ph = event_probability(heart,cards)\n",
    "pc = event_probability(club,cards)\n",
    "P = ph+pc\n",
    "print(\"The probability will be :\",P)"
   ]
  },
  {
   "cell_type": "code",
   "execution_count": 11,
   "id": "3a68e753-9fcb-4c76-af7f-8ce7a82feff4",
   "metadata": {},
   "outputs": [
    {
     "name": "stdout",
     "output_type": "stream",
     "text": [
      "The probability will be : 0.23076923076923078\n"
     ]
    }
   ],
   "source": [
    "cards = 52\n",
    "king = 4\n",
    "ace = 4\n",
    "queen = 4\n",
    "pk = event_probability(king,cards)\n",
    "pa = event_probability(ace,cards)\n",
    "pq = event_probability(queen,cards)\n",
    "P = pk+pa+pq\n",
    "print(\"The probability will be :\",P)"
   ]
  },
  {
   "cell_type": "code",
   "execution_count": 12,
   "id": "3803fe5e-6425-40fb-a154-e9a957b9a709",
   "metadata": {},
   "outputs": [
    {
     "name": "stdout",
     "output_type": "stream",
     "text": [
      "The probability will be : 0.3076923076923077\n"
     ]
    }
   ],
   "source": [
    "cards = 52\n",
    "heart = 13\n",
    "ace = 4\n",
    "ace_of_hearts = 1\n",
    "ace_or_hearts =event_probability(heart,cards) + event_probability(ace,cards) - event_probability(ace_of_hearts,cards)\n",
    "print(\"The probability will be :\",ace_or_hearts)"
   ]
  },
  {
   "cell_type": "code",
   "execution_count": 15,
   "id": "61a65e6d-007f-4475-b431-1371557c3e52",
   "metadata": {},
   "outputs": [
    {
     "name": "stdout",
     "output_type": "stream",
     "text": [
      "The probability of not getting 5 will be : 0.8333333333333334\n"
     ]
    }
   ],
   "source": [
    "#probability of not getting a 5 when a die is rolled\n",
    "ns = 6 #{1,2,3,4,5,6}\n",
    "na = 1 #{5}\n",
    "pa = na/ns\n",
    "print(\"The probability of not getting 5 will be :\",1-pa)"
   ]
  },
  {
   "cell_type": "markdown",
   "id": "dbbd8e1d-f706-4135-9ea1-99ae313d277f",
   "metadata": {},
   "source": [
    "P(A) is the probability of grade 80% or greater\n",
    "P(A) = (35+5)/(35+5+277+78)\n",
    "\n",
    "P(B) is the probability of missing 10 or more classes\n",
    "P(B) = (35+5)/(35+5+277+78)\n",
    "\n",
    "PAB = P_A_OR_B/PB\n",
    "PAB = 0.060240963855421686\n",
    "The probability of getting atleast an 80% final grade, \n",
    "given missing 10 or more class is 6%"
   ]
  },
  {
   "cell_type": "code",
   "execution_count": 3,
   "id": "7e3d1a86-7e5f-4f42-8380-b28cbcea5483",
   "metadata": {},
   "outputs": [
    {
     "name": "stdout",
     "output_type": "stream",
     "text": [
      "0.060240963855421686\n"
     ]
    }
   ],
   "source": [
    "import pandas as pd\n",
    "import numpy as np\n",
    "df = pd.read_csv('Downloads/student-mat.csv')\n",
    "\n",
    "df['grade_A'] = np.where(df['G3']*5 >= 80, 1, 0)\n",
    "df['high_absenses'] = np.where(df['absences'] >= 10, 1, 0)\n",
    "df['count']=1\n",
    "df = df[['grade_A','high_absenses','count']]\n",
    "\n",
    "final = pd.pivot_table(\n",
    "    df,\n",
    "    values = 'count',\n",
    "    index = ['grade_A'],\n",
    "    columns=['high_absenses'],\n",
    "    aggfunc = np.size,\n",
    "    fill_value = 0\n",
    ")\n",
    "\n",
    "#Probability of grade of 80% or greater\n",
    "PA = (35+5)/(35+5+277+78)\n",
    "\n",
    "#PB is probablity of misssing 10 or more class\n",
    "PB = (78+5)/(35+5+277+78)\n",
    "\n",
    "#PB is probablity of misssing 10 or more class\n",
    "PB = (78+5)/(35+5+277+78)\n",
    "\n",
    "P_A_OR_B = 5/(35+5+277+78) \n",
    "\n",
    "PAB = P_A_OR_B/PB\n",
    "print(PAB)\n",
    "#The probability of getting atleast an 80% final grade, \n",
    "#given missing 10 or more class is 6%"
   ]
  }
 ],
 "metadata": {
  "kernelspec": {
   "display_name": "Python 3",
   "language": "python",
   "name": "python3"
  },
  "language_info": {
   "codemirror_mode": {
    "name": "ipython",
    "version": 3
   },
   "file_extension": ".py",
   "mimetype": "text/x-python",
   "name": "python",
   "nbconvert_exporter": "python",
   "pygments_lexer": "ipython3",
   "version": "3.8.8"
  }
 },
 "nbformat": 4,
 "nbformat_minor": 5
}
